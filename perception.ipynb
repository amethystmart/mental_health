{
 "cells": [
  {
   "cell_type": "code",
   "execution_count": 1,
   "id": "b7aeeb53-b32e-4567-88b4-849cb6e4b8e2",
   "metadata": {},
   "outputs": [],
   "source": [
    "import pandas as pd"
   ]
  },
  {
   "cell_type": "code",
   "execution_count": 2,
   "id": "4393bded-89c5-41cd-aabd-5e90013708a8",
   "metadata": {},
   "outputs": [],
   "source": [
    "df = pd.read_csv('comfort.csv')"
   ]
  },
  {
   "cell_type": "code",
   "execution_count": 3,
   "id": "8ef24aa6-b471-4747-85aa-c1e0726482e6",
   "metadata": {},
   "outputs": [
    {
     "data": {
      "text/plain": [
       "Index(['Entity', 'Code', 'Year',\n",
       "       'Share - Question: mh5 - Someone local comfortable speaking about anxiety/depression with someone they know - Answer: Very comfortable - Gender: all - Age group: all',\n",
       "       'Share - Question: mh5 - Someone local comfortable speaking about anxiety/depression with someone they know - Answer: Somewhat comfortable - Gender: all - Age group: all',\n",
       "       'Share - Question: mh5 - Someone local comfortable speaking about anxiety/depression with someone they know - Answer: Don't know/Refused - Gender: all - Age group: all',\n",
       "       'Share - Question: mh5 - Someone local comfortable speaking about anxiety/depression with someone they know - Answer: Not at all comfortable - Gender: all - Age group: all'],\n",
       "      dtype='object')"
      ]
     },
     "execution_count": 3,
     "metadata": {},
     "output_type": "execute_result"
    }
   ],
   "source": [
    "df.columns"
   ]
  },
  {
   "cell_type": "code",
   "execution_count": 4,
   "id": "9a51a4b1-312f-4d75-82d5-59f2ce8fc388",
   "metadata": {},
   "outputs": [],
   "source": [
    "df.columns = ['Entity', 'Code', 'Year', \n",
    "              'Very_comfortable', 'Somewhat_comfortable',\n",
    "              'Dont_know', 'Not_comfortable']"
   ]
  },
  {
   "cell_type": "code",
   "execution_count": 5,
   "id": "9f9ed17d-4269-46e1-9db8-c40fa68d9543",
   "metadata": {},
   "outputs": [
    {
     "data": {
      "text/html": [
       "<div>\n",
       "<style scoped>\n",
       "    .dataframe tbody tr th:only-of-type {\n",
       "        vertical-align: middle;\n",
       "    }\n",
       "\n",
       "    .dataframe tbody tr th {\n",
       "        vertical-align: top;\n",
       "    }\n",
       "\n",
       "    .dataframe thead th {\n",
       "        text-align: right;\n",
       "    }\n",
       "</style>\n",
       "<table border=\"1\" class=\"dataframe\">\n",
       "  <thead>\n",
       "    <tr style=\"text-align: right;\">\n",
       "      <th></th>\n",
       "      <th>Entity</th>\n",
       "      <th>Code</th>\n",
       "      <th>Year</th>\n",
       "      <th>Very_comfortable</th>\n",
       "      <th>Somewhat_comfortable</th>\n",
       "      <th>Dont_know</th>\n",
       "      <th>Not_comfortable</th>\n",
       "    </tr>\n",
       "  </thead>\n",
       "  <tbody>\n",
       "    <tr>\n",
       "      <th>0</th>\n",
       "      <td>Africa</td>\n",
       "      <td>NaN</td>\n",
       "      <td>2020</td>\n",
       "      <td>31.021803</td>\n",
       "      <td>34.817074</td>\n",
       "      <td>7.530081</td>\n",
       "      <td>26.631048</td>\n",
       "    </tr>\n",
       "    <tr>\n",
       "      <th>1</th>\n",
       "      <td>Albania</td>\n",
       "      <td>ALB</td>\n",
       "      <td>2020</td>\n",
       "      <td>25.491678</td>\n",
       "      <td>38.334480</td>\n",
       "      <td>8.599926</td>\n",
       "      <td>27.573915</td>\n",
       "    </tr>\n",
       "    <tr>\n",
       "      <th>2</th>\n",
       "      <td>Algeria</td>\n",
       "      <td>DZA</td>\n",
       "      <td>2020</td>\n",
       "      <td>31.641382</td>\n",
       "      <td>46.207172</td>\n",
       "      <td>10.747551</td>\n",
       "      <td>11.403895</td>\n",
       "    </tr>\n",
       "    <tr>\n",
       "      <th>3</th>\n",
       "      <td>Argentina</td>\n",
       "      <td>ARG</td>\n",
       "      <td>2020</td>\n",
       "      <td>26.543772</td>\n",
       "      <td>42.311417</td>\n",
       "      <td>4.810892</td>\n",
       "      <td>26.333920</td>\n",
       "    </tr>\n",
       "    <tr>\n",
       "      <th>4</th>\n",
       "      <td>Asia</td>\n",
       "      <td>NaN</td>\n",
       "      <td>2020</td>\n",
       "      <td>24.826124</td>\n",
       "      <td>32.633120</td>\n",
       "      <td>16.018250</td>\n",
       "      <td>26.522500</td>\n",
       "    </tr>\n",
       "  </tbody>\n",
       "</table>\n",
       "</div>"
      ],
      "text/plain": [
       "      Entity Code  Year  Very_comfortable  Somewhat_comfortable  Dont_know  \\\n",
       "0     Africa  NaN  2020         31.021803             34.817074   7.530081   \n",
       "1    Albania  ALB  2020         25.491678             38.334480   8.599926   \n",
       "2    Algeria  DZA  2020         31.641382             46.207172  10.747551   \n",
       "3  Argentina  ARG  2020         26.543772             42.311417   4.810892   \n",
       "4       Asia  NaN  2020         24.826124             32.633120  16.018250   \n",
       "\n",
       "   Not_comfortable  \n",
       "0        26.631048  \n",
       "1        27.573915  \n",
       "2        11.403895  \n",
       "3        26.333920  \n",
       "4        26.522500  "
      ]
     },
     "execution_count": 5,
     "metadata": {},
     "output_type": "execute_result"
    }
   ],
   "source": [
    "df.head()"
   ]
  },
  {
   "cell_type": "code",
   "execution_count": null,
   "id": "c5af93d9-8ad7-45f7-bc6c-65cfb5bbc54d",
   "metadata": {},
   "outputs": [],
   "source": []
  },
  {
   "cell_type": "code",
   "execution_count": 6,
   "id": "32e83e50-2e7b-4259-b152-4c9a7090af0b",
   "metadata": {},
   "outputs": [
    {
     "data": {
      "text/plain": [
       "23.327630432520323"
      ]
     },
     "execution_count": 6,
     "metadata": {},
     "output_type": "execute_result"
    }
   ],
   "source": [
    "df['Very_comfortable'].mean()"
   ]
  },
  {
   "cell_type": "code",
   "execution_count": 7,
   "id": "0409c20b-8717-48fd-ad68-00510522d30a",
   "metadata": {},
   "outputs": [
    {
     "data": {
      "text/plain": [
       "count    123.000000\n",
       "mean      23.327630\n",
       "std       12.806816\n",
       "min        2.713478\n",
       "25%       13.360209\n",
       "50%       21.583582\n",
       "75%       28.214820\n",
       "max       60.667377\n",
       "Name: Very_comfortable, dtype: float64"
      ]
     },
     "execution_count": 7,
     "metadata": {},
     "output_type": "execute_result"
    }
   ],
   "source": [
    "df['Very_comfortable'].describe()"
   ]
  },
  {
   "cell_type": "code",
   "execution_count": 8,
   "id": "d1a2136b-d0a4-469b-a9d2-7f0895403d8c",
   "metadata": {},
   "outputs": [],
   "source": [
    "datawrapper_df = df[['Entity', 'Very_comfortable']].copy()"
   ]
  },
  {
   "cell_type": "code",
   "execution_count": 9,
   "id": "5bb32808-d28d-4e4b-a26f-abb73c5c1e74",
   "metadata": {},
   "outputs": [],
   "source": [
    "datawrapper_df['Index'] = range(len(datawrapper_df))"
   ]
  },
  {
   "cell_type": "code",
   "execution_count": 10,
   "id": "dc03d488-fd30-4625-b16d-a4c3090f20fd",
   "metadata": {},
   "outputs": [],
   "source": [
    "datawrapper_df = datawrapper_df[['Index', 'Entity', 'Very_comfortable']]"
   ]
  },
  {
   "cell_type": "code",
   "execution_count": 11,
   "id": "f120a7b9-6ba3-4ce4-a901-2b41928f9e05",
   "metadata": {},
   "outputs": [],
   "source": [
    "datawrapper_df.to_csv('datawrapper_comfort.csv', index=False)"
   ]
  },
  {
   "cell_type": "code",
   "execution_count": 12,
   "id": "9040e263-4c2d-4c1f-80bd-4fcbac613e7e",
   "metadata": {},
   "outputs": [],
   "source": [
    "df = pd.read_csv('knowing_someone.csv')"
   ]
  },
  {
   "cell_type": "code",
   "execution_count": 13,
   "id": "16286e1d-fb6b-4109-bd3e-f3328c38d7e5",
   "metadata": {},
   "outputs": [],
   "source": [
    "df_clean = df[df['Year'] == 2020].copy()"
   ]
  },
  {
   "cell_type": "code",
   "execution_count": 14,
   "id": "e40c39f7-025f-420a-9f4c-7aa6dfa1137a",
   "metadata": {},
   "outputs": [],
   "source": [
    " df_clean = df_clean[[\n",
    "        'Entity',\n",
    "        'Share - Question: mh6 - Friends/family have been anxious/depressed - Answer: Yes - Gender: all - Age group: all'\n",
    "    ]].rename(columns={\n",
    "        'Entity': 'country',\n",
    "        'Share - Question: mh6 - Friends/family have been anxious/depressed - Answer: Yes - Gender: all - Age group: all': 'friends_family_anxiety_depression'\n",
    "    })"
   ]
  },
  {
   "cell_type": "code",
   "execution_count": 15,
   "id": "b79fe967-c119-4a26-b74e-1b4ca8a276be",
   "metadata": {},
   "outputs": [],
   "source": [
    "df_clean['country'] = df_clean['country'].str.strip()"
   ]
  },
  {
   "cell_type": "code",
   "execution_count": 16,
   "id": "e469e0e0-83ff-43e4-aae9-a0aa07e463a9",
   "metadata": {},
   "outputs": [],
   "source": [
    " df_clean = df_clean[~df_clean['country'].isin(['Africa', 'Asia', 'Europe', 'North America', 'South America', 'Oceania', 'World','high-income countries','Upper-middle-income countries','Lower-middle-income countries','Low-income countries'])]"
   ]
  },
  {
   "cell_type": "code",
   "execution_count": 18,
   "id": "acf879ff-d460-4493-bc5a-68696161aff7",
   "metadata": {},
   "outputs": [],
   "source": [
    "df_clean = df_clean.dropna(subset=['friends_family_anxiety_depression'])\n",
    "    "
   ]
  },
  {
   "cell_type": "code",
   "execution_count": 22,
   "id": "b26c6b95-a994-44bd-ba3c-d0a33c969992",
   "metadata": {},
   "outputs": [],
   "source": [
    "df_clean.insert(0, 'Index', range(len(df_clean)))"
   ]
  },
  {
   "cell_type": "code",
   "execution_count": 23,
   "id": "a213d249-ec00-47ad-8f09-974461505849",
   "metadata": {},
   "outputs": [
    {
     "data": {
      "text/html": [
       "<div>\n",
       "<style scoped>\n",
       "    .dataframe tbody tr th:only-of-type {\n",
       "        vertical-align: middle;\n",
       "    }\n",
       "\n",
       "    .dataframe tbody tr th {\n",
       "        vertical-align: top;\n",
       "    }\n",
       "\n",
       "    .dataframe thead th {\n",
       "        text-align: right;\n",
       "    }\n",
       "</style>\n",
       "<table border=\"1\" class=\"dataframe\">\n",
       "  <thead>\n",
       "    <tr style=\"text-align: right;\">\n",
       "      <th></th>\n",
       "      <th>Index</th>\n",
       "      <th>country</th>\n",
       "      <th>friends_family_anxiety_depression</th>\n",
       "    </tr>\n",
       "  </thead>\n",
       "  <tbody>\n",
       "    <tr>\n",
       "      <th>835</th>\n",
       "      <td>0</td>\n",
       "      <td>Albania</td>\n",
       "      <td>28.002811</td>\n",
       "    </tr>\n",
       "    <tr>\n",
       "      <th>1173</th>\n",
       "      <td>1</td>\n",
       "      <td>Algeria</td>\n",
       "      <td>20.884764</td>\n",
       "    </tr>\n",
       "    <tr>\n",
       "      <th>3069</th>\n",
       "      <td>2</td>\n",
       "      <td>Argentina</td>\n",
       "      <td>53.234257</td>\n",
       "    </tr>\n",
       "    <tr>\n",
       "      <th>4549</th>\n",
       "      <td>3</td>\n",
       "      <td>Australia</td>\n",
       "      <td>51.281860</td>\n",
       "    </tr>\n",
       "    <tr>\n",
       "      <th>4887</th>\n",
       "      <td>4</td>\n",
       "      <td>Austria</td>\n",
       "      <td>42.142483</td>\n",
       "    </tr>\n",
       "    <tr>\n",
       "      <th>...</th>\n",
       "      <td>...</td>\n",
       "      <td>...</td>\n",
       "      <td>...</td>\n",
       "    </tr>\n",
       "    <tr>\n",
       "      <th>75583</th>\n",
       "      <td>109</td>\n",
       "      <td>Uzbekistan</td>\n",
       "      <td>29.187244</td>\n",
       "    </tr>\n",
       "    <tr>\n",
       "      <th>76550</th>\n",
       "      <td>110</td>\n",
       "      <td>Venezuela</td>\n",
       "      <td>60.228554</td>\n",
       "    </tr>\n",
       "    <tr>\n",
       "      <th>76888</th>\n",
       "      <td>111</td>\n",
       "      <td>Vietnam</td>\n",
       "      <td>39.873585</td>\n",
       "    </tr>\n",
       "    <tr>\n",
       "      <th>78247</th>\n",
       "      <td>112</td>\n",
       "      <td>Zambia</td>\n",
       "      <td>57.336536</td>\n",
       "    </tr>\n",
       "    <tr>\n",
       "      <th>78585</th>\n",
       "      <td>113</td>\n",
       "      <td>Zimbabwe</td>\n",
       "      <td>45.036860</td>\n",
       "    </tr>\n",
       "  </tbody>\n",
       "</table>\n",
       "<p>114 rows × 3 columns</p>\n",
       "</div>"
      ],
      "text/plain": [
       "       Index     country  friends_family_anxiety_depression\n",
       "835        0     Albania                          28.002811\n",
       "1173       1     Algeria                          20.884764\n",
       "3069       2   Argentina                          53.234257\n",
       "4549       3   Australia                          51.281860\n",
       "4887       4     Austria                          42.142483\n",
       "...      ...         ...                                ...\n",
       "75583    109  Uzbekistan                          29.187244\n",
       "76550    110   Venezuela                          60.228554\n",
       "76888    111     Vietnam                          39.873585\n",
       "78247    112      Zambia                          57.336536\n",
       "78585    113    Zimbabwe                          45.036860\n",
       "\n",
       "[114 rows x 3 columns]"
      ]
     },
     "execution_count": 23,
     "metadata": {},
     "output_type": "execute_result"
    }
   ],
   "source": [
    "df_clean"
   ]
  },
  {
   "cell_type": "code",
   "execution_count": 24,
   "id": "a5c4b4b4-ac5d-4841-9d1b-8c1c6642e806",
   "metadata": {},
   "outputs": [
    {
     "data": {
      "text/html": [
       "<div>\n",
       "<style scoped>\n",
       "    .dataframe tbody tr th:only-of-type {\n",
       "        vertical-align: middle;\n",
       "    }\n",
       "\n",
       "    .dataframe tbody tr th {\n",
       "        vertical-align: top;\n",
       "    }\n",
       "\n",
       "    .dataframe thead th {\n",
       "        text-align: right;\n",
       "    }\n",
       "</style>\n",
       "<table border=\"1\" class=\"dataframe\">\n",
       "  <thead>\n",
       "    <tr style=\"text-align: right;\">\n",
       "      <th></th>\n",
       "      <th>Index</th>\n",
       "      <th>country</th>\n",
       "      <th>friends_family_anxiety_depression</th>\n",
       "    </tr>\n",
       "  </thead>\n",
       "  <tbody>\n",
       "    <tr>\n",
       "      <th>835</th>\n",
       "      <td>0</td>\n",
       "      <td>Albania</td>\n",
       "      <td>28.002811</td>\n",
       "    </tr>\n",
       "    <tr>\n",
       "      <th>1173</th>\n",
       "      <td>1</td>\n",
       "      <td>Algeria</td>\n",
       "      <td>20.884764</td>\n",
       "    </tr>\n",
       "    <tr>\n",
       "      <th>3069</th>\n",
       "      <td>2</td>\n",
       "      <td>Argentina</td>\n",
       "      <td>53.234257</td>\n",
       "    </tr>\n",
       "    <tr>\n",
       "      <th>4549</th>\n",
       "      <td>3</td>\n",
       "      <td>Australia</td>\n",
       "      <td>51.281860</td>\n",
       "    </tr>\n",
       "    <tr>\n",
       "      <th>4887</th>\n",
       "      <td>4</td>\n",
       "      <td>Austria</td>\n",
       "      <td>42.142483</td>\n",
       "    </tr>\n",
       "  </tbody>\n",
       "</table>\n",
       "</div>"
      ],
      "text/plain": [
       "      Index    country  friends_family_anxiety_depression\n",
       "835       0    Albania                          28.002811\n",
       "1173      1    Algeria                          20.884764\n",
       "3069      2  Argentina                          53.234257\n",
       "4549      3  Australia                          51.281860\n",
       "4887      4    Austria                          42.142483"
      ]
     },
     "execution_count": 24,
     "metadata": {},
     "output_type": "execute_result"
    }
   ],
   "source": [
    "df_clean.head()"
   ]
  },
  {
   "cell_type": "code",
   "execution_count": null,
   "id": "475fd96f-14cf-4ddc-b1b9-938b8104421a",
   "metadata": {},
   "outputs": [],
   "source": []
  },
  {
   "cell_type": "code",
   "execution_count": null,
   "id": "3b22e050-a117-438a-aa8f-9e7bdf5dd1bc",
   "metadata": {},
   "outputs": [],
   "source": []
  },
  {
   "cell_type": "code",
   "execution_count": 25,
   "id": "9b480675-dd9e-4bf0-84ec-a26f5e392958",
   "metadata": {},
   "outputs": [],
   "source": [
    "df_clean.to_csv('know_someone6.csv', index=False)"
   ]
  },
  {
   "cell_type": "code",
   "execution_count": null,
   "id": "18c49e1e-776d-4339-a174-972fd88d24a1",
   "metadata": {},
   "outputs": [],
   "source": []
  }
 ],
 "metadata": {
  "kernelspec": {
   "display_name": "Python 3 (ipykernel)",
   "language": "python",
   "name": "python3"
  },
  "language_info": {
   "codemirror_mode": {
    "name": "ipython",
    "version": 3
   },
   "file_extension": ".py",
   "mimetype": "text/x-python",
   "name": "python",
   "nbconvert_exporter": "python",
   "pygments_lexer": "ipython3",
   "version": "3.11.8"
  }
 },
 "nbformat": 4,
 "nbformat_minor": 5
}
